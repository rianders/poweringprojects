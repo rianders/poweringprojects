{
 "cells": [
  {
   "cell_type": "markdown",
   "metadata": {},
   "source": [
    "# Project Notebook\n",
    "\n",
    "View this Notebook with: https://nbviewer.jupyter.org/github/rianders/poweringprojects/blob/master/ProjectNotebook.ipynb"
   ]
  },
  {
   "cell_type": "markdown",
   "metadata": {},
   "source": [
    "## Ohm's Law Formula:\n",
    "\n",
    "Solve for voltage:\n",
    "\\begin{align}\n",
    "V=I\\cdot R\n",
    "\\end{align}\n",
    "\n",
    "Solve for current:\n",
    "\\begin{align}\n",
    "I = \\frac VR\n",
    "\\end{align}\n",
    "\n",
    "Solve for resistance:\n",
    "\\begin{align}\n",
    "R = \\frac VI\n",
    "\\end{align}"
   ]
  },
  {
   "cell_type": "markdown",
   "metadata": {},
   "source": [
    "### Explore using various values"
   ]
  },
  {
   "cell_type": "code",
   "execution_count": 10,
   "metadata": {},
   "outputs": [
    {
     "name": "stdout",
     "output_type": "stream",
     "text": [
      "0.0068\n"
     ]
    }
   ],
   "source": [
    "V = 3.4\n",
    "I = 500\n",
    "R = None\n",
    "\n",
    "R = V / I\n",
    "print(R)"
   ]
  },
  {
   "cell_type": "code",
   "execution_count": null,
   "metadata": {
    "collapsed": true
   },
   "outputs": [],
   "source": []
  }
 ],
 "metadata": {
  "kernelspec": {
   "display_name": "Python 3",
   "language": "python",
   "name": "python3"
  },
  "language_info": {
   "codemirror_mode": {
    "name": "ipython",
    "version": 3
   },
   "file_extension": ".py",
   "mimetype": "text/x-python",
   "name": "python",
   "nbconvert_exporter": "python",
   "pygments_lexer": "ipython3",
   "version": "3.6.2"
  }
 },
 "nbformat": 4,
 "nbformat_minor": 2
}
